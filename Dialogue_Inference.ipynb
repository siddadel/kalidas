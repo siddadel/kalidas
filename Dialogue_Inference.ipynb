{
  "nbformat": 4,
  "nbformat_minor": 0,
  "metadata": {
    "colab": {
      "name": "Dialogue-Inference.ipynb",
      "provenance": [],
      "collapsed_sections": [],
      "machine_shape": "hm",
      "authorship_tag": "ABX9TyP4Hu3qnNiRv2iqvhmdZoiG",
      "include_colab_link": true
    },
    "kernelspec": {
      "name": "python3",
      "display_name": "Python 3"
    },
    "language_info": {
      "name": "python"
    },
    "accelerator": "GPU"
  },
  "cells": [
    {
      "cell_type": "markdown",
      "metadata": {
        "id": "view-in-github",
        "colab_type": "text"
      },
      "source": [
        "<a href=\"https://colab.research.google.com/github/siddadel/kalidas/blob/main/Dialogue_Inference.ipynb\" target=\"_parent\"><img src=\"https://colab.research.google.com/assets/colab-badge.svg\" alt=\"Open In Colab\"/></a>"
      ]
    },
    {
      "cell_type": "code",
      "metadata": {
        "colab": {
          "base_uri": "https://localhost:8080/"
        },
        "id": "iBa6UJ_Fnqeh",
        "outputId": "865e6245-84ee-4b2e-fff2-40af92d9a96a"
      },
      "source": [
        "!nvidia-smi"
      ],
      "execution_count": 26,
      "outputs": [
        {
          "output_type": "stream",
          "name": "stdout",
          "text": [
            "huggingface/tokenizers: The current process just got forked, after parallelism has already been used. Disabling parallelism to avoid deadlocks...\n",
            "To disable this warning, you can either:\n",
            "\t- Avoid using `tokenizers` before the fork if possible\n",
            "\t- Explicitly set the environment variable TOKENIZERS_PARALLELISM=(true | false)\n",
            "Tue Nov 30 20:40:39 2021       \n",
            "+-----------------------------------------------------------------------------+\n",
            "| NVIDIA-SMI 495.44       Driver Version: 460.32.03    CUDA Version: 11.2     |\n",
            "|-------------------------------+----------------------+----------------------+\n",
            "| GPU  Name        Persistence-M| Bus-Id        Disp.A | Volatile Uncorr. ECC |\n",
            "| Fan  Temp  Perf  Pwr:Usage/Cap|         Memory-Usage | GPU-Util  Compute M. |\n",
            "|                               |                      |               MIG M. |\n",
            "|===============================+======================+======================|\n",
            "|   0  Tesla P100-PCIE...  Off  | 00000000:00:04.0 Off |                    0 |\n",
            "| N/A   53C    P0    38W / 250W |   2809MiB / 16280MiB |      0%      Default |\n",
            "|                               |                      |                  N/A |\n",
            "+-------------------------------+----------------------+----------------------+\n",
            "                                                                               \n",
            "+-----------------------------------------------------------------------------+\n",
            "| Processes:                                                                  |\n",
            "|  GPU   GI   CI        PID   Type   Process name                  GPU Memory |\n",
            "|        ID   ID                                                   Usage      |\n",
            "|=============================================================================|\n",
            "|  No running processes found                                                 |\n",
            "+-----------------------------------------------------------------------------+\n"
          ]
        }
      ]
    },
    {
      "cell_type": "code",
      "metadata": {
        "colab": {
          "base_uri": "https://localhost:8080/"
        },
        "id": "n0T14RFvnzu4",
        "outputId": "b980df60-199d-4aec-be10-5cf49e3f6b9d"
      },
      "source": [
        "!pip install transformers --quiet\n",
        "!git clone https://github.com/allenai/comet-atomic-2020\n",
        "!pip install -r ./comet-atomic-2020/requirements.txt --quiet\n",
        "!wget https://storage.googleapis.com/ai2-mosaic-public/projects/mosaic-kgs/comet-atomic_2020_BART.zip\n",
        "!unzip comet-atomic_2020_BART.zip"
      ],
      "execution_count": 27,
      "outputs": [
        {
          "output_type": "stream",
          "name": "stdout",
          "text": [
            "huggingface/tokenizers: The current process just got forked, after parallelism has already been used. Disabling parallelism to avoid deadlocks...\n",
            "To disable this warning, you can either:\n",
            "\t- Avoid using `tokenizers` before the fork if possible\n",
            "\t- Explicitly set the environment variable TOKENIZERS_PARALLELISM=(true | false)\n",
            "huggingface/tokenizers: The current process just got forked, after parallelism has already been used. Disabling parallelism to avoid deadlocks...\n",
            "To disable this warning, you can either:\n",
            "\t- Avoid using `tokenizers` before the fork if possible\n",
            "\t- Explicitly set the environment variable TOKENIZERS_PARALLELISM=(true | false)\n",
            "fatal: destination path 'comet-atomic-2020' already exists and is not an empty directory.\n",
            "huggingface/tokenizers: The current process just got forked, after parallelism has already been used. Disabling parallelism to avoid deadlocks...\n",
            "To disable this warning, you can either:\n",
            "\t- Avoid using `tokenizers` before the fork if possible\n",
            "\t- Explicitly set the environment variable TOKENIZERS_PARALLELISM=(true | false)\n",
            "huggingface/tokenizers: The current process just got forked, after parallelism has already been used. Disabling parallelism to avoid deadlocks...\n",
            "To disable this warning, you can either:\n",
            "\t- Avoid using `tokenizers` before the fork if possible\n",
            "\t- Explicitly set the environment variable TOKENIZERS_PARALLELISM=(true | false)\n",
            "--2021-11-30 20:40:48--  https://storage.googleapis.com/ai2-mosaic-public/projects/mosaic-kgs/comet-atomic_2020_BART.zip\n",
            "Resolving storage.googleapis.com (storage.googleapis.com)... 172.217.193.128, 172.217.204.128, 172.217.203.128, ...\n",
            "Connecting to storage.googleapis.com (storage.googleapis.com)|172.217.193.128|:443... connected.\n",
            "HTTP request sent, awaiting response... 200 OK\n",
            "Length: 1507095346 (1.4G) [application/zip]\n",
            "Saving to: ‘comet-atomic_2020_BART.zip.1’\n",
            "\n",
            "comet-atomic_2020_B 100%[===================>]   1.40G   231MB/s    in 6.9s    \n",
            "\n",
            "2021-11-30 20:40:55 (207 MB/s) - ‘comet-atomic_2020_BART.zip.1’ saved [1507095346/1507095346]\n",
            "\n",
            "huggingface/tokenizers: The current process just got forked, after parallelism has already been used. Disabling parallelism to avoid deadlocks...\n",
            "To disable this warning, you can either:\n",
            "\t- Avoid using `tokenizers` before the fork if possible\n",
            "\t- Explicitly set the environment variable TOKENIZERS_PARALLELISM=(true | false)\n",
            "Archive:  comet-atomic_2020_BART.zip\n",
            "replace comet-atomic_2020_BART/added_tokens.json? [y]es, [n]o, [A]ll, [N]one, [r]ename: N\n"
          ]
        }
      ]
    },
    {
      "cell_type": "code",
      "metadata": {
        "colab": {
          "base_uri": "https://localhost:8080/"
        },
        "id": "oH2O85T7n3kW",
        "outputId": "d5c1ff5c-626e-4d97-a3b6-e1fc02eece27"
      },
      "source": [
        "from google.colab import files\n",
        "from google.colab import drive\n",
        "drive.mount('/content/drive')\n",
        "data_root = \"/content/drive/MyDrive/ANLP21/scripts_txt\"\n",
        "#data_root = \"/content/drive/MyDrive/ANLP21/scripts_sample\"\n",
        "output_dir= \"/content/drive/MyDrive/ANLP21/exp\""
      ],
      "execution_count": 28,
      "outputs": [
        {
          "output_type": "stream",
          "name": "stdout",
          "text": [
            "Drive already mounted at /content/drive; to attempt to forcibly remount, call drive.mount(\"/content/drive\", force_remount=True).\n"
          ]
        }
      ]
    },
    {
      "cell_type": "code",
      "metadata": {
        "id": "PdFAeg3MogFK"
      },
      "source": [
        "import pandas as pd\n",
        "import random\n",
        "import os\n",
        "import re\n",
        "import spacy\n",
        "from collections import Counter\n",
        "from joblib import Parallel, delayed\n",
        "import pandas as pd\n",
        "nlp = spacy.load(\"en_core_web_sm\")"
      ],
      "execution_count": 29,
      "outputs": []
    },
    {
      "cell_type": "code",
      "metadata": {
        "colab": {
          "base_uri": "https://localhost:8080/"
        },
        "id": "J1rJLiWlpiio",
        "outputId": "398c55f8-f207-4a0c-a293-433f414686f4"
      },
      "source": [
        "import sys\n",
        "sys.path.insert(1,r'./comet-atomic-2020/models/comet_atomic2020_bart')\n",
        "from generation_example import Comet\n",
        "print(\"model loading ...\")\n",
        "comet = Comet(\"comet-atomic_2020_BART\")\n",
        "comet.model.zero_grad()\n",
        "print(\"model loaded\")"
      ],
      "execution_count": 30,
      "outputs": [
        {
          "output_type": "stream",
          "name": "stdout",
          "text": [
            "model loading ...\n",
            "model loaded\n"
          ]
        }
      ]
    },
    {
      "cell_type": "code",
      "metadata": {
        "id": "1dW_Eb_QoO0W"
      },
      "source": [
        "relations = [\"CapableOf\",  \"Desires\",  \"MotivatedByGoal\",  \"xAttr\", \"xNeed\", \"xReact\", \"xReason\", \"xWant\"]\n",
        "\n",
        "vocabulary = set()\n",
        "\n",
        "film_bags = {}\n",
        "\n",
        "def register_in_bag(film, token, relation):\n",
        "    if film not in film_bags:\n",
        "      film_bags[film] = {}\n",
        "    if(relation not in film_bags[film]):\n",
        "      film_bags[film][relation] = set()\n",
        "    film_bags[film][relation].add(token)\n",
        "    vocabulary.add(token)\n",
        "    \n",
        "def process_results(film, results, relations):\n",
        "    for i in range(len(relations)):\n",
        "      relation = relations[i]\n",
        "      for result in results[i]:\n",
        "        tokens = result.split(' ')\n",
        "        for token in tokens:\n",
        "          if token not in nlp.Defaults.stop_words:\n",
        "            register_in_bag(film, token, relation)\n",
        "\n",
        "log = []\n",
        "def infer(film, item, relations):\n",
        "    queries= [\"{} {} [GEN]\".format(item, relation) for relation in relations]\n",
        "    results = comet.generate(queries, decode_method=\"beam\", num_generate=5)\n",
        "    if film not in log:\n",
        "      print(film, end=\",\")\n",
        "      log.append(film)\n",
        "    process_results(film, results, relations)"
      ],
      "execution_count": 31,
      "outputs": []
    },
    {
      "cell_type": "code",
      "metadata": {
        "id": "ft6jzHstn8Wu"
      },
      "source": [
        "df1 = pd.read_csv(\"/content/drive/MyDrive/ANLP21/data.csv\")"
      ],
      "execution_count": 32,
      "outputs": []
    },
    {
      "cell_type": "code",
      "metadata": {
        "id": "UryZcbQcn8NZ"
      },
      "source": [
        "# df1.apply(lambda row: infer(row['film'], row['item'], relations), axis=1)"
      ],
      "execution_count": 33,
      "outputs": []
    },
    {
      "cell_type": "code",
      "metadata": {
        "id": "Zf9OnkWnoIxa",
        "colab": {
          "base_uri": "https://localhost:8080/"
        },
        "outputId": "16eee80b-af20-4688-d1ae-fe18cf7a4064"
      },
      "source": [
        "import json\n",
        "\n",
        "def infer(item):\n",
        "  queries= [\"{} {} [GEN]\".format(item, relation) for relation in relations]\n",
        "  results = comet.generate(queries, decode_method=\"beam\", num_generate=5)\n",
        "  return results\n",
        "\n",
        "film_group = df1.groupby('film')\n",
        "for film, group in film_group:\n",
        "  print(film)\n",
        "  #The following three ways were quicker ways but they don't work for some reason\n",
        "  # if you want to work with these make sure to convert the results array in infer into json or string before returning\n",
        "  # group['inference'] = comet.generate([\"{} {} [GEN]\".format(group['item'], relation) for relation in relations], decode_method=\"beam\", num_generate=5)\n",
        "  # group['inference'] = group['item'].apply((lambda x: infer(x)), axis=1)\n",
        "  # group['inference'] = infer(group['item'])\n",
        "  # for i in range(len(relations)):\n",
        "  #   # group[str(relations[i])] = group['inference'].apply((lambda x: parse_inf(x, i)), axis=1)\n",
        "  #   group[str(relations[i])] = parse_inf(group['inference'], i)\n",
        "  \n",
        "  for i in range(len(relations)):\n",
        "    group[relations[i]] = [\"\" for i in range(len(group))]\n",
        "\n",
        "  rel_inf = []\n",
        "  for ind in group.index:\n",
        "    item = group['item'][ind]\n",
        "    results = infer(item)\n",
        "    for i in range(len(relations)):\n",
        "      group[relations[i]][ind] = results[i]\n",
        "\n",
        "  group.to_csv(film+'.csv')\n",
        "  files.download(film+'.csv')\n",
        "  break\n"
      ],
      "execution_count": null,
      "outputs": [
        {
          "output_type": "stream",
          "name": "stdout",
          "text": [
            "10_things_i_hate_about_you.txt\n"
          ]
        },
        {
          "output_type": "stream",
          "name": "stderr",
          "text": [
            "/usr/local/lib/python3.7/dist-packages/ipykernel_launcher.py:28: SettingWithCopyWarning: \n",
            "A value is trying to be set on a copy of a slice from a DataFrame\n",
            "\n",
            "See the caveats in the documentation: https://pandas.pydata.org/pandas-docs/stable/user_guide/indexing.html#returning-a-view-versus-a-copy\n"
          ]
        }
      ]
    },
    {
      "cell_type": "code",
      "metadata": {
        "id": "31OMT4nn9Jnl"
      },
      "source": [
        "N"
      ],
      "execution_count": null,
      "outputs": []
    }
  ]
}