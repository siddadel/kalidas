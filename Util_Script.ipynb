{
  "nbformat": 4,
  "nbformat_minor": 0,
  "metadata": {
    "colab": {
      "name": "Util-Script.ipynb",
      "provenance": [],
      "collapsed_sections": [],
      "authorship_tag": "ABX9TyOpAeWRfK2+y+Jwdz0Amg7B",
      "include_colab_link": true
    },
    "kernelspec": {
      "name": "python3",
      "display_name": "Python 3"
    },
    "language_info": {
      "name": "python"
    }
  },
  "cells": [
    {
      "cell_type": "markdown",
      "metadata": {
        "id": "view-in-github",
        "colab_type": "text"
      },
      "source": [
        "<a href=\"https://colab.research.google.com/github/siddadel/kalidas/blob/main/Util_Script.ipynb\" target=\"_parent\"><img src=\"https://colab.research.google.com/assets/colab-badge.svg\" alt=\"Open In Colab\"/></a>"
      ]
    },
    {
      "cell_type": "code",
      "metadata": {
        "colab": {
          "base_uri": "https://localhost:8080/"
        },
        "id": "iDt8HIcg4hza",
        "outputId": "1fafae61-55b3-44d4-e72f-a48b87c7e092"
      },
      "source": [
        "from google.colab import drive\n",
        "drive.mount('/content/drive')\n",
        "fileDir = \"/content/drive/MyDrive/ANLP21/concat\""
      ],
      "execution_count": null,
      "outputs": [
        {
          "output_type": "stream",
          "name": "stdout",
          "text": [
            "Mounted at /content/drive\n"
          ]
        }
      ]
    },
    {
      "cell_type": "code",
      "metadata": {
        "id": "g9xxL35vefzD"
      },
      "source": [
        "import pandas as pd"
      ],
      "execution_count": null,
      "outputs": []
    },
    {
      "cell_type": "code",
      "metadata": {
        "colab": {
          "base_uri": "https://localhost:8080/"
        },
        "id": "pDdL6BCDeWVk",
        "outputId": "9cc63383-44b0-4c9c-9d9b-ec9c1005fb38"
      },
      "source": [
        "import string\n",
        "inference_backup = pd.read_csv('/content/drive/MyDrive/ANLP21/inference_backup.csv')\n",
        "\n",
        "backup_films = inference_backup['film'].to_list()\n",
        "backup_items = inference_backup['item'].to_list()\n",
        "def inference_exists(film, item, relation):\n",
        "  if(film in backup_films) and (item in backup_items) and (relation in inference_backup.columns):\n",
        "    d = (inference_backup[inference_backup.apply(lambda row: (row['film']==film) and (row['item'] == item) and (row[relation]!=\"\"), axis=1)])\n",
        "    inferences =  d[relation].to_list()[0].strip('][').split(', ')\n",
        "    return [i.translate(str.maketrans('', '', string.punctuation)).strip() for i in inferences]\n",
        "  else:\n",
        "    return None\n",
        "\n",
        "inference_exists(\"10_things_i_hate_about_you.txt\",\t'KAT says, \"Leave it\"', 'xAttr') is None"
      ],
      "execution_count": null,
      "outputs": [
        {
          "output_type": "execute_result",
          "data": {
            "text/plain": [
              "False"
            ]
          },
          "metadata": {},
          "execution_count": 10
        }
      ]
    },
    {
      "cell_type": "code",
      "metadata": {
        "colab": {
          "base_uri": "https://localhost:8080/",
          "height": 1000
        },
        "id": "Ene_WZ-N4t54",
        "outputId": "9c020d34-e9a1-459e-eb1e-4ec4cf2ad860"
      },
      "source": [
        "import os\n",
        "import pandas as pd\n",
        "df = pd.concat([pd.read_csv(os.path.join(fileDir, _)) for _ in os.listdir(fileDir) if _.endswith(\".csv\")])\n",
        "df"
      ],
      "execution_count": null,
      "outputs": [
        {
          "output_type": "execute_result",
          "data": {
            "text/html": [
              "<div>\n",
              "<style scoped>\n",
              "    .dataframe tbody tr th:only-of-type {\n",
              "        vertical-align: middle;\n",
              "    }\n",
              "\n",
              "    .dataframe tbody tr th {\n",
              "        vertical-align: top;\n",
              "    }\n",
              "\n",
              "    .dataframe thead th {\n",
              "        text-align: right;\n",
              "    }\n",
              "</style>\n",
              "<table border=\"1\" class=\"dataframe\">\n",
              "  <thead>\n",
              "    <tr style=\"text-align: right;\">\n",
              "      <th></th>\n",
              "      <th>Unnamed: 0</th>\n",
              "      <th>Unnamed: 0.1</th>\n",
              "      <th>film</th>\n",
              "      <th>item</th>\n",
              "      <th>CapableOf</th>\n",
              "      <th>Desires</th>\n",
              "      <th>MotivatedByGoal</th>\n",
              "      <th>xAttr</th>\n",
              "      <th>xNeed</th>\n",
              "      <th>xReact</th>\n",
              "      <th>xReason</th>\n",
              "      <th>xWant</th>\n",
              "    </tr>\n",
              "  </thead>\n",
              "  <tbody>\n",
              "    <tr>\n",
              "      <th>0</th>\n",
              "      <td>2946</td>\n",
              "      <td>27570</td>\n",
              "      <td>le_grand_bleu.txt</td>\n",
              "      <td>JOHANA says, \"(in Spanish) Is this the Lago de...</td>\n",
              "      <td>[' they go back home', ' they get a drink', ' ...</td>\n",
              "      <td>[' happy', ' good', ' curious', ' none', ' con...</td>\n",
              "      <td>[' JOHANA asks her if she knows where it is', ...</td>\n",
              "      <td>[' observant', ' curious', ' inquiring', ' cur...</td>\n",
              "      <td>[' to look at the lake', ' to look at the wate...</td>\n",
              "      <td>[' happy', ' curious', ' satisfied', ' excited...</td>\n",
              "      <td>[' JOHANA asks her if she knows where it is', ...</td>\n",
              "      <td>[' to go to the beach', ' to ask a question', ...</td>\n",
              "    </tr>\n",
              "    <tr>\n",
              "      <th>1</th>\n",
              "      <td>2947</td>\n",
              "      <td>27573</td>\n",
              "      <td>le_grand_bleu.txt</td>\n",
              "      <td>JOHANA says, \"Gracias.\"</td>\n",
              "      <td>[' get a hug', ' get a drink', ' get a handsha...</td>\n",
              "      <td>[' to show gratitude', ' to show appreciation'...</td>\n",
              "      <td>[' they get a hug back', ' they get a hug', ' ...</td>\n",
              "      <td>[' friendly', ' grateful', ' kind', ' polite',...</td>\n",
              "      <td>[' to approach the other person', ' to approac...</td>\n",
              "      <td>[' happy', ' grateful', ' good', ' satisfied',...</td>\n",
              "      <td>[' JOHANDA IS HAPPY', '   ', ' JOHAN', '  ', '...</td>\n",
              "      <td>[' to say something else', ' to express gratit...</td>\n",
              "    </tr>\n",
              "    <tr>\n",
              "      <th>2</th>\n",
              "      <td>2948</td>\n",
              "      <td>27582</td>\n",
              "      <td>le_grand_bleu.txt</td>\n",
              "      <td>JOHANA says, \"Don't you have a heater?\"</td>\n",
              "      <td>[' turn on heater', ' get a drink', ' turn on ...</td>\n",
              "      <td>[' to be warm', ' to stay warm', ' to get warm...</td>\n",
              "      <td>[' JOHANA GETS A HEAT', ' JOHANA GETS THE HEAT...</td>\n",
              "      <td>[' cold', ' warm', ' hot', ' curious', ' rude']</td>\n",
              "      <td>[' to find someone to talk to', ' to be in a c...</td>\n",
              "      <td>[' cold', ' cold.', ' warm', ' happy', ' annoy...</td>\n",
              "      <td>[' JOHANA GETS A HEAT', ' JOHANA GETS THE HEAT...</td>\n",
              "      <td>[' to ask if they have a heater', ' to make su...</td>\n",
              "    </tr>\n",
              "    <tr>\n",
              "      <th>3</th>\n",
              "      <td>2949</td>\n",
              "      <td>27584</td>\n",
              "      <td>le_grand_bleu.txt</td>\n",
              "      <td>JOHANA says, \"Does anybody live to make a seco...</td>\n",
              "      <td>[' to make a second', ' to ask a question', ' ...</td>\n",
              "      <td>[' to make a second', ' to ask a question', ' ...</td>\n",
              "      <td>[' JOHANDA', '   ', ' JOHAN', ' none', '  ']</td>\n",
              "      <td>[' brave', ' alive', ' curious', ' determined'...</td>\n",
              "      <td>[' to think about the situation', ' to ask a q...</td>\n",
              "      <td>[' happy.', ' happy', ' alive', ' good', ' sat...</td>\n",
              "      <td>[' JOHANA GETS IT', '   ', ' JOHAN', ' none', ...</td>\n",
              "      <td>[' to make sure they are okay', ' to make sure...</td>\n",
              "    </tr>\n",
              "    <tr>\n",
              "      <th>4</th>\n",
              "      <td>2950</td>\n",
              "      <td>27586</td>\n",
              "      <td>le_grand_bleu.txt</td>\n",
              "      <td>JOHANA says, \"(a little worried) Forget about ...</td>\n",
              "      <td>[' get a drink', ' take a shower', ' to get wa...</td>\n",
              "      <td>[' to be warm', ' to stay warm', ' to keep war...</td>\n",
              "      <td>['   ', ' JOHAN', ' jolly', '  ', ' none']</td>\n",
              "      <td>[' worried', ' nervous', ' anxious', ' concern...</td>\n",
              "      <td>[' to think about the heater', ' to be in the ...</td>\n",
              "      <td>[' worried', ' nervous', ' relieved', ' anxiou...</td>\n",
              "      <td>[' JOHANA GETS THE HEAT', ' JOHANA is worried ...</td>\n",
              "      <td>[' to go back to sleep', ' to go back to bed',...</td>\n",
              "    </tr>\n",
              "    <tr>\n",
              "      <th>...</th>\n",
              "      <td>...</td>\n",
              "      <td>...</td>\n",
              "      <td>...</td>\n",
              "      <td>...</td>\n",
              "      <td>...</td>\n",
              "      <td>...</td>\n",
              "      <td>...</td>\n",
              "      <td>...</td>\n",
              "      <td>...</td>\n",
              "      <td>...</td>\n",
              "      <td>...</td>\n",
              "      <td>...</td>\n",
              "    </tr>\n",
              "    <tr>\n",
              "      <th>286</th>\n",
              "      <td>11424</td>\n",
              "      <td>111116</td>\n",
              "      <td>jackie_brown.txt</td>\n",
              "      <td>ORDELL says, \"She starts givin' me some bullsh...</td>\n",
              "      <td>[' get a gun', ' get the money', ' they get sh...</td>\n",
              "      <td>[' get out of there', ' get the money back', '...</td>\n",
              "      <td>[' none', ' the gun', ' the money', ' they run...</td>\n",
              "      <td>[' angry', ' scared', ' violent', ' dangerous'...</td>\n",
              "      <td>[' to have a gun', ' to get the money', ' to g...</td>\n",
              "      <td>[' they are in jail', ' they get shot', ' none...</td>\n",
              "      <td>[' get out of there', ' get away from me', ' g...</td>\n",
              "      <td>[' to get the money', ' to get it', ' none', '...</td>\n",
              "    </tr>\n",
              "    <tr>\n",
              "      <th>287</th>\n",
              "      <td>11425</td>\n",
              "      <td>111118</td>\n",
              "      <td>jackie_brown.txt</td>\n",
              "      <td>ORDELL says, \"Now, is there anything you want ...</td>\n",
              "      <td>[' get in car', ' talk to person', ' get out',...</td>\n",
              "      <td>[' good about themselves', ' talk to person', ...</td>\n",
              "      <td>[' they get out of car', ' the car is moving',...</td>\n",
              "      <td>[' talkative', ' open minded', ' curious', ' t...</td>\n",
              "      <td>[' to get in the car', ' to open the car door'...</td>\n",
              "      <td>[' happy', ' nervous', ' relieved', ' good', '...</td>\n",
              "      <td>[' good about themselves', ' they get out', ' ...</td>\n",
              "      <td>[' to get in the car', ' to talk to PersonY', ...</td>\n",
              "    </tr>\n",
              "    <tr>\n",
              "      <th>288</th>\n",
              "      <td>11426</td>\n",
              "      <td>111120</td>\n",
              "      <td>jackie_brown.txt</td>\n",
              "      <td>ORDELL says, \"You sure?\"</td>\n",
              "      <td>[' hear a response', ' hear a question', ' ans...</td>\n",
              "      <td>[' to be sure', ' to be assured', ' to make su...</td>\n",
              "      <td>[' PersonY asks PersonY if they are sure', ' P...</td>\n",
              "      <td>[' curious', ' hopeful', ' confident', ' unsur...</td>\n",
              "      <td>[' to talk to PersonY', ' to be asked a questi...</td>\n",
              "      <td>[' satisfied', ' happy', ' good', ' relieved',...</td>\n",
              "      <td>[' PersonY asks PersonY if they are sure.', ' ...</td>\n",
              "      <td>[' to make sure they are sure', \" to make sure...</td>\n",
              "    </tr>\n",
              "    <tr>\n",
              "      <th>289</th>\n",
              "      <td>11427</td>\n",
              "      <td>111122</td>\n",
              "      <td>jackie_brown.txt</td>\n",
              "      <td>ORDELL says, \"You better be, motherfucker.\"</td>\n",
              "      <td>[' to be in control', ' to be in charge', ' ma...</td>\n",
              "      <td>[' to be in control', ' to be in charge', ' to...</td>\n",
              "      <td>['    the motherfucker', '    and  ', '   ', '...</td>\n",
              "      <td>[' mean', ' aggressive', ' angry', ' confident...</td>\n",
              "      <td>[' to talk to someone', ' to talk to him', ' t...</td>\n",
              "      <td>[' good.', ' good', ' happy', ' satisfied', ' ...</td>\n",
              "      <td>['    the motherfucker is angry', '    the mot...</td>\n",
              "      <td>[' to get away from the situation', ' to make ...</td>\n",
              "    </tr>\n",
              "    <tr>\n",
              "      <th>290</th>\n",
              "      <td>11428</td>\n",
              "      <td>111125</td>\n",
              "      <td>jackie_brown.txt</td>\n",
              "      <td>ORDELL says, \"Get ahead of me and open the door.\"</td>\n",
              "      <td>[' get in the car', ' open the door', ' get in...</td>\n",
              "      <td>[' to open the door', ' to be ahead', ' to get...</td>\n",
              "      <td>[' the door to open', ' the door is locked', '...</td>\n",
              "      <td>[' impatient', ' helpful', ' decisive', ' rude...</td>\n",
              "      <td>[' to be near the door', ' to be in a hurry', ...</td>\n",
              "      <td>[' good.', ' happy', ' good', ' helpful', ' sa...</td>\n",
              "      <td>[' PersonY opens the door.', ' PersonY opens t...</td>\n",
              "      <td>[' to open the door', ' to get to the door', '...</td>\n",
              "    </tr>\n",
              "  </tbody>\n",
              "</table>\n",
              "<p>13236 rows × 12 columns</p>\n",
              "</div>"
            ],
            "text/plain": [
              "     Unnamed: 0  ...                                              xWant\n",
              "0          2946  ...  [' to go to the beach', ' to ask a question', ...\n",
              "1          2947  ...  [' to say something else', ' to express gratit...\n",
              "2          2948  ...  [' to ask if they have a heater', ' to make su...\n",
              "3          2949  ...  [' to make sure they are okay', ' to make sure...\n",
              "4          2950  ...  [' to go back to sleep', ' to go back to bed',...\n",
              "..          ...  ...                                                ...\n",
              "286       11424  ...  [' to get the money', ' to get it', ' none', '...\n",
              "287       11425  ...  [' to get in the car', ' to talk to PersonY', ...\n",
              "288       11426  ...  [' to make sure they are sure', \" to make sure...\n",
              "289       11427  ...  [' to get away from the situation', ' to make ...\n",
              "290       11428  ...  [' to open the door', ' to get to the door', '...\n",
              "\n",
              "[13236 rows x 12 columns]"
            ]
          },
          "metadata": {},
          "execution_count": 8
        }
      ]
    },
    {
      "cell_type": "code",
      "metadata": {
        "id": "dlN1XBhg5QTc"
      },
      "source": [
        "import pandas as pd\n",
        "t = pd.read_csv(root+'characters-test-train-dev.csv')\n",
        "from sklearn.model_selection import train_test_split\n",
        "\n",
        "t['film']  = t['film'].apply(lambda film: film.replace(\".txt.txt.txt.txt.txt.txt.txt\",\".txt\"))\n",
        "train, test = train_test_split(t, test_size=0.3)\n",
        "dev, test = train_test_split(test, test_size=0.5)\n",
        "print(len(t), len(train), len(test), len(dev))\n",
        "train['set'] = 'train'\n",
        "dev['set'] = 'dev'\n",
        "test['set'] = 'test'\n",
        "\n",
        "pd.concat([train, dev, test]).to_csv(root+'characters-test-train-dev.csv')"
      ],
      "execution_count": null,
      "outputs": []
    }
  ]
}